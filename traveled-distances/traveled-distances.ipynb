{
 "cells": [
  {
   "cell_type": "markdown",
   "metadata": {},
   "source": [
    "# A visualisation of distances traveled in Switzerland\n",
    "In this notebook, we'll create a plot showing the distribution of traveled distances during the year 2017, obtained from all distances traveled by devices connected to Swisscom network.\n",
    "These distributions are available for every day of 2017 on the Swisscom Open Data portal `opendata.swisscom.com`."
   ]
  },
  {
   "cell_type": "code",
   "execution_count": null,
   "metadata": {},
   "outputs": [],
   "source": [
    "import wget\n",
    "import csv\n",
    "from collections import defaultdict\n",
    "from datetime import datetime\n",
    "import numpy as np\n",
    "import matplotlib.pyplot as plt\n",
    "import matplotlib\n",
    "matplotlib.rcParams.update({'font.size': 18})"
   ]
  },
  {
   "cell_type": "markdown",
   "metadata": {},
   "source": [
    "Set this boolean to decide whether to plot actual traveled distances (on transport graph), or as-the-crow-flies distance"
   ]
  },
  {
   "cell_type": "code",
   "execution_count": null,
   "metadata": {},
   "outputs": [],
   "source": [
    "effective_distance = True"
   ]
  },
  {
   "cell_type": "code",
   "execution_count": null,
   "metadata": {},
   "outputs": [],
   "source": [
    "# download dataset\n",
    "url = 'https://opendata.swisscom.com/explore/dataset/travel-distances-per-day-in-2017-en/download/' + \\\n",
    "      '?format=csv&timezone=Europe/Berlin&use_labels_for_header=true'\n",
    "\n",
    "fname = wget.download(url)"
   ]
  },
  {
   "cell_type": "markdown",
   "metadata": {},
   "source": [
    "## Parse the CSV file"
   ]
  },
  {
   "cell_type": "code",
   "execution_count": null,
   "metadata": {},
   "outputs": [],
   "source": [
    "date_key = 'Travel date'\n",
    "bucket_key = 'Distance group in km'\n",
    "\n",
    "if effective_distance:\n",
    "    rail_count_key = 'Number of journeys by train (effective)'\n",
    "    road_count_key = 'Number of journeys by road (effective)'\n",
    "else:\n",
    "    rail_count_key = 'Number of journeys by train (direct)'\n",
    "    road_count_key = 'Number of journeys by road (direct)'\n",
    "\n",
    "date_to_road_hist = defaultdict(list)\n",
    "date_to_rail_hist = defaultdict(list)\n",
    "\n",
    "dates = set()\n",
    "    \n",
    "with open(fname, 'r') as f:\n",
    "    reader = csv.DictReader(f, delimiter=';')\n",
    "    for row in reader:\n",
    "        date_str, dist_bucket = row[date_key], row[bucket_key]\n",
    "        count_rail, count_road = row[rail_count_key], row[road_count_key]\n",
    "        \n",
    "        # use middle of bucket as value\n",
    "        mid_bucket = (int(dist_bucket.split('-')[1]) + int(dist_bucket.split('-')[0])) / 2.\n",
    "        date = datetime.strptime(date_str, '%Y-%m-%d').date()\n",
    "        dates.add(date)\n",
    "        \n",
    "        if '<' not in count_road:\n",
    "            date_to_road_hist[date].append((mid_bucket, int(count_road)))\n",
    "        if '<' not in count_rail:\n",
    "            date_to_rail_hist[date].append((mid_bucket, int(count_rail)))"
   ]
  },
  {
   "cell_type": "markdown",
   "metadata": {},
   "source": [
    "## Plot\n",
    "Here, for each distance bucket, we'll compute the average and standard deviation of the counts over all dates. This will give us the \"average\" daily distance distribution."
   ]
  },
  {
   "cell_type": "code",
   "execution_count": null,
   "metadata": {},
   "outputs": [],
   "source": [
    "bucket_to_counts_rail = defaultdict(list)\n",
    "bucket_to_counts_road = defaultdict(list)\n",
    "\n",
    "for date in dates:\n",
    "    for b, c in date_to_rail_hist[date]:\n",
    "        bucket_to_counts_rail[b].append(c)\n",
    "    for b, c in date_to_road_hist[date]:\n",
    "        bucket_to_counts_road[b].append(c)"
   ]
  },
  {
   "cell_type": "code",
   "execution_count": null,
   "metadata": {},
   "outputs": [],
   "source": [
    "bucket_counts_rail = sorted(list(bucket_to_counts_rail.items()))\n",
    "bucket_counts_road = sorted(list(bucket_to_counts_road.items()))\n",
    "\n",
    "buckets_rail = list(map(lambda t: t[0], bucket_counts_rail))\n",
    "buckets_road = list(map(lambda t: t[0], bucket_counts_road))\n",
    "\n",
    "means_rail = np.array(list(map(lambda t: np.mean(t[1]), bucket_counts_rail)))\n",
    "means_road = np.array(list(map(lambda t: np.mean(t[1]), bucket_counts_road)))\n",
    "stdev_rail = np.array(list(map(lambda t: np.std(t[1]), bucket_counts_rail)))\n",
    "stdev_road = np.array(list(map(lambda t: np.std(t[1]), bucket_counts_road)))\n",
    "\n",
    "plt.figure(figsize=(10,7))\n",
    "plt.semilogy(buckets_road, means_road, lw=6, label='road', alpha=0.8)\n",
    "plt.fill_between(buckets_road, means_road+2*stdev_road, np.maximum(means_road-2*stdev_road, 10), \n",
    "                 facecolor='blue', alpha=0.3)\n",
    "\n",
    "plt.semilogy(buckets_rail, means_rail, lw=6, label='rail', alpha=0.8)\n",
    "plt.fill_between(buckets_rail, means_rail+2*stdev_rail, np.maximum(means_rail-2*stdev_rail, 10), \n",
    "                 facecolor='orange', alpha=0.6)\n",
    "\n",
    "plt.xlabel('distance traveled [km]')\n",
    "plt.ylabel('count')\n",
    "plt.title('Average daily distance distribution')\n",
    "plt.legend()\n",
    "plt.show()"
   ]
  },
  {
   "cell_type": "code",
   "execution_count": null,
   "metadata": {},
   "outputs": [],
   "source": []
  }
 ],
 "metadata": {
  "kernelspec": {
   "display_name": "Python 3",
   "language": "python",
   "name": "python3"
  },
  "language_info": {
   "codemirror_mode": {
    "name": "ipython",
    "version": 3
   },
   "file_extension": ".py",
   "mimetype": "text/x-python",
   "name": "python",
   "nbconvert_exporter": "python",
   "pygments_lexer": "ipython3",
   "version": "3.6.5"
  }
 },
 "nbformat": 4,
 "nbformat_minor": 2
}
